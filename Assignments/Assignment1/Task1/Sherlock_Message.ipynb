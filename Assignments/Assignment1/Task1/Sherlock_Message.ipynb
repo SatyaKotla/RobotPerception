{
 "cells": [
  {
   "cell_type": "code",
   "execution_count": 2,
   "id": "0e84e704",
   "metadata": {},
   "outputs": [],
   "source": [
    "import cv2 \n",
    "import numpy as np\n",
    "import sys"
   ]
  },
  {
   "cell_type": "code",
   "execution_count": 3,
   "id": "74c8811c",
   "metadata": {},
   "outputs": [],
   "source": [
    "img = cv2.imread(\"for_watson.png\")"
   ]
  },
  {
   "cell_type": "code",
   "execution_count": 4,
   "id": "2362c0cb",
   "metadata": {},
   "outputs": [],
   "source": [
    "if img is None:\n",
    "    sys.exit(\"could not read the image\")"
   ]
  },
  {
   "cell_type": "code",
   "execution_count": 10,
   "id": "e7ba7441",
   "metadata": {},
   "outputs": [
    {
     "data": {
      "text/plain": [
       "True"
      ]
     },
     "execution_count": 10,
     "metadata": {},
     "output_type": "execute_result"
    }
   ],
   "source": [
    "hsv_image = cv2.cvtColor(img, cv2.COLOR_BGR2HSV)\n",
    "hue_channel,saturation_channel,value_channel = cv2.split(hsv_image)\n",
    "\n",
    "cv2.imshow(\"Display Window\",hue_channel)\n",
    "k = cv2.waitKey(0)\n",
    "if k == ord(\"s\"):\n",
    "    cv2.imwrite(\"for_watson.jpg\",hsv_image)\n",
    "    \n",
    "cv2.imwrite('hue_channel.png',hue_channel)"
   ]
  },
  {
   "cell_type": "code",
   "execution_count": 12,
   "id": "dd6155ed",
   "metadata": {},
   "outputs": [
    {
     "data": {
      "text/plain": [
       "True"
      ]
     },
     "execution_count": 12,
     "metadata": {},
     "output_type": "execute_result"
    }
   ],
   "source": [
    "# Defining the range for red to convert the red pixels to black\n",
    "\n",
    "# First range for red\n",
    "lower_red1 = np.array([0, 50, 50])\n",
    "upper_red1 = np.array([10, 255, 255])\n",
    "\n",
    "# Second range for red (high range in HSV)\n",
    "lower_red2 = np.array([170, 50, 50])\n",
    "upper_red2 = np.array([180, 255, 255])\n",
    "\n",
    "\n",
    "mask1 = cv2.inRange(hsv_image, lower_red1, upper_red1)\n",
    "mask2 = cv2.inRange(hsv_image, lower_red2, upper_red2)\n",
    "\n",
    "\n",
    "red_mask = cv2.bitwise_or(mask1, mask2)\n",
    "\n",
    "# Inverting the mask to get non_red areas\n",
    "mask_inv = cv2.bitwise_not(red_mask)\n",
    "\n",
    "black_background = np.zeros_like(img)\n",
    "\n",
    "#changing the red pixels to black\n",
    "red_to_black = cv2.bitwise_and(black_background, black_background, mask=red_mask)\n",
    "\n",
    "text_to_white = cv2.bitwise_and(img, img, mask=mask_inv)\n",
    "\n",
    "# Non zero pixels to white\n",
    "text_to_white[np.where((text_to_white != [0, 0, 0]).all(axis=2))] = [255, 255, 255]\n",
    "\n",
    "\n",
    "result = cv2.add(red_to_black, text_to_white)\n",
    "\n",
    "\n",
    "result_gray = cv2.cvtColor(result, cv2.COLOR_BGR2GRAY)\n",
    "\n",
    "\n",
    "cv2.imshow('Red to Black, Text to White', result_gray)\n",
    "cv2.waitKey(0)\n",
    "cv2.destroyAllWindows()\n",
    "\n",
    "\n",
    "cv2.imwrite('red_to_black_text_white.png', result_gray)"
   ]
  },
  {
   "cell_type": "code",
   "execution_count": null,
   "id": "5026dc89",
   "metadata": {},
   "outputs": [],
   "source": []
  }
 ],
 "metadata": {
  "kernelspec": {
   "display_name": "Python 3 (ipykernel)",
   "language": "python",
   "name": "python3"
  },
  "language_info": {
   "codemirror_mode": {
    "name": "ipython",
    "version": 3
   },
   "file_extension": ".py",
   "mimetype": "text/x-python",
   "name": "python",
   "nbconvert_exporter": "python",
   "pygments_lexer": "ipython3",
   "version": "3.9.7"
  }
 },
 "nbformat": 4,
 "nbformat_minor": 5
}
