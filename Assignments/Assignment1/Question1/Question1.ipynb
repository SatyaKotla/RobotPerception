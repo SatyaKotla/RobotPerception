{
 "cells": [
  {
   "cell_type": "code",
   "execution_count": 46,
   "id": "0e84e704",
   "metadata": {},
   "outputs": [],
   "source": [
    "import cv2 \n",
    "import numpy as np\n",
    "import sys"
   ]
  },
  {
   "cell_type": "code",
   "execution_count": 47,
   "id": "74c8811c",
   "metadata": {},
   "outputs": [],
   "source": [
    "img = cv2.imread(\"for_watson.png\")"
   ]
  },
  {
   "cell_type": "code",
   "execution_count": 48,
   "id": "9dec8470",
   "metadata": {},
   "outputs": [],
   "source": [
    "if img is None:\n",
    "    sys.exit(\"could not read the image\")"
   ]
  },
  {
   "cell_type": "code",
   "execution_count": 61,
   "id": "51368cf0",
   "metadata": {},
   "outputs": [],
   "source": [
    "hsv_image = cv2.cvtColor(img, cv2.COLOR_BGR2HSV)\n",
    "hue_channel,saturation_channel,value_channel = cv2.split(hsv_image)\n",
    "\n",
    "cv2.imshow(\"Display Window\",hue_channel)\n",
    "k = cv.waitKey(0)\n",
    "if k == ord(\"s\"):\n",
    "    cv.imwrite(\"for_watson.jpg\",hsv_image)"
   ]
  },
  {
   "cell_type": "code",
   "execution_count": 59,
   "id": "f1f3c18e",
   "metadata": {},
   "outputs": [],
   "source": [
    "\n",
    "gray_image = cv2.cvtColor(img, cv2.COLOR_RGB2GRAY)\n",
    "cv.imshow(\"Display Window\",gray_image)\n",
    "k = cv.waitKey(0)\n",
    "if k == ord(\"s\"):\n",
    "    cv.imwrite(\"for_watson.jpg\",gray_image)"
   ]
  },
  {
   "cell_type": "code",
   "execution_count": null,
   "id": "958eba44",
   "metadata": {},
   "outputs": [],
   "source": []
  }
 ],
 "metadata": {
  "kernelspec": {
   "display_name": "Python 3 (ipykernel)",
   "language": "python",
   "name": "python3"
  },
  "language_info": {
   "codemirror_mode": {
    "name": "ipython",
    "version": 3
   },
   "file_extension": ".py",
   "mimetype": "text/x-python",
   "name": "python",
   "nbconvert_exporter": "python",
   "pygments_lexer": "ipython3",
   "version": "3.9.7"
  }
 },
 "nbformat": 4,
 "nbformat_minor": 5
}
