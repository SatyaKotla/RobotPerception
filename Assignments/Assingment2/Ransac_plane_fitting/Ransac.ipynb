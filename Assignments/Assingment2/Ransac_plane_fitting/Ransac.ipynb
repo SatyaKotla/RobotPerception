{
 "cells": [
  {
   "cell_type": "markdown",
   "id": "9553f356-dbbb-475e-8bcd-ec4ef52142bc",
   "metadata": {},
   "source": [
    "# Ransac algorithm implementation"
   ]
  },
  {
   "cell_type": "code",
   "execution_count": 1,
   "id": "eefcec4f-9f94-443d-8318-0a76a814ba5a",
   "metadata": {},
   "outputs": [
    {
     "name": "stdout",
     "output_type": "stream",
     "text": [
      "Jupyter environment detected. Enabling Open3D WebVisualizer.\n",
      "[Open3D INFO] WebRTC GUI backend enabled.\n",
      "[Open3D INFO] WebRTCWindowSystem: HTTP handshake server disabled.\n"
     ]
    }
   ],
   "source": [
    "# libraries\n",
    "import open3d as o3d\n",
    "import numpy as np\n",
    "import random"
   ]
  },
  {
   "cell_type": "code",
   "execution_count": 11,
   "id": "cdd78f40-c183-41a8-9d44-f4a92ffd4240",
   "metadata": {},
   "outputs": [],
   "source": [
    "def ransac(pcd, threshold=0.02\n",
    "           , iterations=1000):\n",
    "    # converting the point cloud into numpy array\n",
    "    points = np.asarray(pcd.points)\n",
    "    \n",
    "    best_inliers = []\n",
    "    best_plane = None\n",
    "    \n",
    "    for i in range(iterations):\n",
    "        \n",
    "        # randomly sampling 3 points\n",
    "        random_points_index = random.sample(range(len(points)), 3)\n",
    "        random_points = points[random_points_index]\n",
    "        \n",
    "        # plane - ax + by + cz + d = 0\n",
    "        p1, p2, p3 = random_points\n",
    "        \n",
    "        # computing the normal\n",
    "        v1 = p2 - p1\n",
    "        v2 = p3 - p1\n",
    "        normal = np.cross(v1, v2)\n",
    "        \n",
    "        # plane d value\n",
    "        d = -np.dot(normal, p1)\n",
    "        \n",
    "        #Calculating the distance of points from the plane\n",
    "        distances = np.abs(np.dot(points, normal) + d) / np.linalg.norm(normal)\n",
    "        \n",
    "        # inlier definition\n",
    "        inliers = np.where(distances < threshold)[0]\n",
    "        \n",
    "        if len(inliers) > len(best_inliers):\n",
    "            best_inliers = inliers\n",
    "            best_plane = (normal[0], normal[1], normal[2], d)\n",
    "    \n",
    "    return best_plane, best_inliers"
   ]
  },
  {
   "cell_type": "code",
   "execution_count": 13,
   "id": "3dbb3d8c-6262-41ac-b98b-51b073c8e2af",
   "metadata": {},
   "outputs": [],
   "source": [
    "pcd_point_cloud = o3d.data.PCDPointCloud()\n",
    "pcd = o3d.io.read_point_cloud(pcd_point_cloud.path)\n",
    "\n",
    "# Visualize the point cloud\n",
    "o3d.visualization.draw_geometries([pcd],\n",
    "                                  zoom=1,\n",
    "                                  front=[0.4257, -0.2125, -0.8795],\n",
    "                                  lookat=[2.6172, 2.0475, 1.532],\n",
    "                                  up=[-0.0694, -0.9768, 0.2024])"
   ]
  },
  {
   "cell_type": "code",
   "execution_count": 14,
   "id": "e587a568-55f4-4359-80f9-ca2e864f3389",
   "metadata": {},
   "outputs": [
    {
     "name": "stdout",
     "output_type": "stream",
     "text": [
      "Best fitting plane equation: ax + by + cz + d = 0\n",
      "a = 0.03409793134778738, b = 0.06956479480919597, c = -0.7501284591853619, d = 0.8231929653913339\n",
      "Number of inliers: 81378\n"
     ]
    }
   ],
   "source": [
    "# applying ransac to the pcd\n",
    "best_plane, inliers = ransac(pcd)\n",
    "\n",
    "print(\"Best fitting plane equation: ax + by + cz + d = 0\")\n",
    "print(f\"a = {best_plane[0]}, b = {best_plane[1]}, c = {best_plane[2]}, d = {best_plane[3]}\")\n",
    "print(f\"Number of inliers: {len(inliers)}\")\n",
    "\n",
    "# Visualize inliers and outliers\n",
    "inlier_cloud = pcd.select_by_index(inliers)\n",
    "outlier_cloud = pcd.select_by_index(list(set(range(len(pcd.points))) - set(inliers)))\n",
    "\n",
    "# Visualize inliers\n",
    "inlier_cloud.paint_uniform_color([1.0, 0.0, 0.0])  # Red color for inliers\n",
    "\n",
    "o3d.visualization.draw_geometries([inlier_cloud, outlier_cloud])\n"
   ]
  },
  {
   "cell_type": "code",
   "execution_count": null,
   "id": "b7a3e42d-4533-42df-b502-8d7b897ecd04",
   "metadata": {},
   "outputs": [],
   "source": []
  }
 ],
 "metadata": {
  "kernelspec": {
   "display_name": "Python 3 (ipykernel)",
   "language": "python",
   "name": "python3"
  },
  "language_info": {
   "codemirror_mode": {
    "name": "ipython",
    "version": 3
   },
   "file_extension": ".py",
   "mimetype": "text/x-python",
   "name": "python",
   "nbconvert_exporter": "python",
   "pygments_lexer": "ipython3",
   "version": "3.11.5"
  }
 },
 "nbformat": 4,
 "nbformat_minor": 5
}
